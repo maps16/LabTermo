{
 "cells": [
  {
   "cell_type": "code",
   "execution_count": 1,
   "metadata": {
    "collapsed": false
   },
   "outputs": [],
   "source": [
    "path<- \"C:/Users/Martin/Documents/Tareas UNISON/Termodinamica/Laboratorio/Informe 4/a/Datos\"\n",
    "setwd(path)"
   ]
  },
  {
   "cell_type": "code",
   "execution_count": 2,
   "metadata": {
    "collapsed": false
   },
   "outputs": [
    {
     "name": "stderr",
     "output_type": "stream",
     "text": [
      "\n",
      "Attaching package: 'dplyr'\n",
      "\n",
      "The following objects are masked from 'package:stats':\n",
      "\n",
      "    filter, lag\n",
      "\n",
      "The following objects are masked from 'package:base':\n",
      "\n",
      "    intersect, setdiff, setequal, union\n",
      "\n",
      "\n",
      "Attaching package: 'plotly'\n",
      "\n",
      "The following object is masked from 'package:ggplot2':\n",
      "\n",
      "    last_plot\n",
      "\n",
      "The following object is masked from 'package:stats':\n",
      "\n",
      "    filter\n",
      "\n",
      "The following object is masked from 'package:graphics':\n",
      "\n",
      "    layout\n",
      "\n"
     ]
    }
   ],
   "source": [
    "library(\"ggplot2\")\n",
    "library(\"reshape2\")\n",
    "library(\"dplyr\")\n",
    "library(\"plotly\")"
   ]
  },
  {
   "cell_type": "code",
   "execution_count": 3,
   "metadata": {
    "collapsed": false
   },
   "outputs": [
    {
     "data": {
      "text/html": [
       "<table>\n",
       "<thead><tr><th scope=col>Tiempo...s..</th><th scope=col>T...K..</th><th scope=col>V...m3..</th><th scope=col>P...kPa..</th></tr></thead>\n",
       "<tbody>\n",
       "\t<tr><td>0.0      </td><td>298.891  </td><td>9.505e-05</td><td>204.535  </td></tr>\n",
       "\t<tr><td>0.1      </td><td>298.890  </td><td>9.508e-05</td><td>204.474  </td></tr>\n",
       "\t<tr><td>0.2      </td><td>298.889  </td><td>9.506e-05</td><td>204.535  </td></tr>\n",
       "\t<tr><td>0.3      </td><td>298.889  </td><td>9.508e-05</td><td>204.474  </td></tr>\n",
       "\t<tr><td>0.4      </td><td>298.889  </td><td>9.508e-05</td><td>204.413  </td></tr>\n",
       "\t<tr><td>0.5      </td><td>298.889  </td><td>9.508e-05</td><td>204.413  </td></tr>\n",
       "\t<tr><td>0.6      </td><td>298.889  </td><td>9.508e-05</td><td>204.352  </td></tr>\n",
       "\t<tr><td>0.7      </td><td>298.887  </td><td>9.508e-05</td><td>204.230  </td></tr>\n",
       "</tbody>\n",
       "</table>\n"
      ],
      "text/latex": [
       "\\begin{tabular}{r|llll}\n",
       " Tiempo...s.. & T...K.. & V...m3.. & P...kPa..\\\\\n",
       "\\hline\n",
       "\t 0.0       & 298.891   & 9.505e-05 & 204.535  \\\\\n",
       "\t 0.1       & 298.890   & 9.508e-05 & 204.474  \\\\\n",
       "\t 0.2       & 298.889   & 9.506e-05 & 204.535  \\\\\n",
       "\t 0.3       & 298.889   & 9.508e-05 & 204.474  \\\\\n",
       "\t 0.4       & 298.889   & 9.508e-05 & 204.413  \\\\\n",
       "\t 0.5       & 298.889   & 9.508e-05 & 204.413  \\\\\n",
       "\t 0.6       & 298.889   & 9.508e-05 & 204.352  \\\\\n",
       "\t 0.7       & 298.887   & 9.508e-05 & 204.230  \\\\\n",
       "\\end{tabular}\n"
      ],
      "text/markdown": [
       "\n",
       "Tiempo...s.. | T...K.. | V...m3.. | P...kPa.. | \n",
       "|---|---|---|---|---|---|---|---|\n",
       "| 0.0       | 298.891   | 9.505e-05 | 204.535   | \n",
       "| 0.1       | 298.890   | 9.508e-05 | 204.474   | \n",
       "| 0.2       | 298.889   | 9.506e-05 | 204.535   | \n",
       "| 0.3       | 298.889   | 9.508e-05 | 204.474   | \n",
       "| 0.4       | 298.889   | 9.508e-05 | 204.413   | \n",
       "| 0.5       | 298.889   | 9.508e-05 | 204.413   | \n",
       "| 0.6       | 298.889   | 9.508e-05 | 204.352   | \n",
       "| 0.7       | 298.887   | 9.508e-05 | 204.230   | \n",
       "\n",
       "\n"
      ],
      "text/plain": [
       "  Tiempo...s.. T...K.. V...m3..  P...kPa..\n",
       "1 0.0          298.891 9.505e-05 204.535  \n",
       "2 0.1          298.890 9.508e-05 204.474  \n",
       "3 0.2          298.889 9.506e-05 204.535  \n",
       "4 0.3          298.889 9.508e-05 204.474  \n",
       "5 0.4          298.889 9.508e-05 204.413  \n",
       "6 0.5          298.889 9.508e-05 204.413  \n",
       "7 0.6          298.889 9.508e-05 204.352  \n",
       "8 0.7          298.887 9.508e-05 204.230  "
      ]
     },
     "metadata": {},
     "output_type": "display_data"
    }
   ],
   "source": [
    "D <- read.csv(\"All.csv\" ,header=TRUE, sep=\",\" , stringsAsFactors=FALSE)\n",
    "head(D,8)"
   ]
  },
  {
   "cell_type": "code",
   "execution_count": 4,
   "metadata": {
    "collapsed": false
   },
   "outputs": [
    {
     "data": {
      "text/html": [
       "<table>\n",
       "<thead><tr><th></th><th scope=col>Tiempo</th><th scope=col>T</th><th scope=col>V</th><th scope=col>P</th></tr></thead>\n",
       "<tbody>\n",
       "\t<tr><th scope=row>381</th><td>38.0     </td><td>298.809  </td><td>0.0001968</td><td>101.077  </td></tr>\n",
       "\t<tr><th scope=row>382</th><td>38.1     </td><td>298.811  </td><td>0.0001969</td><td>101.138  </td></tr>\n",
       "\t<tr><th scope=row>383</th><td>38.2     </td><td>298.813  </td><td>0.0001969</td><td>101.199  </td></tr>\n",
       "\t<tr><th scope=row>384</th><td>38.3     </td><td>298.814  </td><td>0.0001969</td><td>101.321  </td></tr>\n",
       "\t<tr><th scope=row>385</th><td>38.4     </td><td>298.816  </td><td>0.0001969</td><td>101.382  </td></tr>\n",
       "</tbody>\n",
       "</table>\n"
      ],
      "text/latex": [
       "\\begin{tabular}{r|llll}\n",
       "  & Tiempo & T & V & P\\\\\n",
       "\\hline\n",
       "\t381 & 38.0      & 298.809   & 0.0001968 & 101.077  \\\\\n",
       "\t382 & 38.1      & 298.811   & 0.0001969 & 101.138  \\\\\n",
       "\t383 & 38.2      & 298.813   & 0.0001969 & 101.199  \\\\\n",
       "\t384 & 38.3      & 298.814   & 0.0001969 & 101.321  \\\\\n",
       "\t385 & 38.4      & 298.816   & 0.0001969 & 101.382  \\\\\n",
       "\\end{tabular}\n"
      ],
      "text/markdown": [
       "\n",
       "| <!--/--> | Tiempo | T | V | P | \n",
       "|---|---|---|---|---|\n",
       "| 381 | 38.0      | 298.809   | 0.0001968 | 101.077   | \n",
       "| 382 | 38.1      | 298.811   | 0.0001969 | 101.138   | \n",
       "| 383 | 38.2      | 298.813   | 0.0001969 | 101.199   | \n",
       "| 384 | 38.3      | 298.814   | 0.0001969 | 101.321   | \n",
       "| 385 | 38.4      | 298.816   | 0.0001969 | 101.382   | \n",
       "\n",
       "\n"
      ],
      "text/plain": [
       "    Tiempo T       V         P      \n",
       "381 38.0   298.809 0.0001968 101.077\n",
       "382 38.1   298.811 0.0001969 101.138\n",
       "383 38.2   298.813 0.0001969 101.199\n",
       "384 38.3   298.814 0.0001969 101.321\n",
       "385 38.4   298.816 0.0001969 101.382"
      ]
     },
     "metadata": {},
     "output_type": "display_data"
    }
   ],
   "source": [
    "names(D)[names(D)==\"Tiempo...s..\"] <- \"Tiempo\"\n",
    "names(D)[names(D)==\"T...K..\"] <- \"T\"\n",
    "names(D)[names(D)==\"V...m3..\"] <- \"V\"\n",
    "names(D)[names(D)==\"P...kPa..\"] <- \"P\"\n",
    "tail(D,5)"
   ]
  },
  {
   "cell_type": "code",
   "execution_count": 5,
   "metadata": {
    "collapsed": false
   },
   "outputs": [
    {
     "name": "stdout",
     "output_type": "stream",
     "text": [
      "'data.frame':\t385 obs. of  4 variables:\n",
      " $ Tiempo: num  0 0.1 0.2 0.3 0.4 0.5 0.6 0.7 0.8 0.9 ...\n",
      " $ T     : num  299 299 299 299 299 ...\n",
      " $ V     : num  9.51e-05 9.51e-05 9.51e-05 9.51e-05 9.51e-05 ...\n",
      " $ P     : num  205 204 205 204 204 ...\n"
     ]
    },
    {
     "data": {
      "text/plain": [
       "     Tiempo           T               V                   P        \n",
       " Min.   : 0.0   Min.   :298.8   Min.   :9.505e-05   Min.   :101.1  \n",
       " 1st Qu.: 9.6   1st Qu.:298.8   1st Qu.:1.258e-04   1st Qu.:113.3  \n",
       " Median :19.2   Median :298.8   Median :1.503e-04   Median :130.7  \n",
       " Mean   :19.2   Mean   :298.8   Mean   :1.495e-04   Mean   :136.3  \n",
       " 3rd Qu.:28.8   3rd Qu.:298.8   3rd Qu.:1.748e-04   3rd Qu.:154.5  \n",
       " Max.   :38.4   Max.   :298.9   Max.   :1.969e-04   Max.   :204.5  "
      ]
     },
     "metadata": {},
     "output_type": "display_data"
    }
   ],
   "source": [
    "str(D)\n",
    "summary(D)"
   ]
  },
  {
   "cell_type": "code",
   "execution_count": 7,
   "metadata": {
    "collapsed": false
   },
   "outputs": [
    {
     "data": {
      "text/html": [
       "0.000760324681794886"
      ],
      "text/latex": [
       "0.000760324681794886"
      ],
      "text/markdown": [
       "0.000760324681794886"
      ],
      "text/plain": [
       "[1] 0.0007603247"
      ]
     },
     "metadata": {},
     "output_type": "display_data"
    },
    {
     "data": {
      "text/html": [
       "298.815651948052"
      ],
      "text/latex": [
       "298.815651948052"
      ],
      "text/markdown": [
       "298.815651948052"
      ],
      "text/plain": [
       "[1] 298.8157"
      ]
     },
     "metadata": {},
     "output_type": "display_data"
    }
   ],
   "source": [
    "#Incertidumbre por repetibilidad\n",
    "n = 385\n",
    "T <- D$T\n",
    "MT <- mean(D$T)\n",
    "sumT <- sum((T-MT)^2)\n",
    "raizT =sqrt((1/(n-1))*sumT)\n",
    "deltaT <- raizT/(sqrt(n))\n",
    "deltaT\n",
    "MT"
   ]
  },
  {
   "cell_type": "code",
   "execution_count": 8,
   "metadata": {
    "collapsed": false,
    "scrolled": false
   },
   "outputs": [
    {
     "data": {},
     "metadata": {},
     "output_type": "display_data"
    },
    {
     "data": {
      "image/png": "[encoded data removed]",
      "text/plain": [
       "plot without title"
      ]
     },
     "metadata": {},
     "output_type": "display_data"
    }
   ],
   "source": [
    "#MT <- mean(D$T)\n",
    "k<-ggplot(D, aes(x=Tiempo,y=T)) +\n",
    "#theme_bw() +\n",
    "geom_point(col=\"blue\") + \n",
    "geom_line(col=\"black\")+\n",
    "stat_smooth(method = \"loess\", span=0.1,colour=\"black\")+\n",
    "geom_hline(aes(yintercept = MT), linetype= \"dashed\", size =1.25)+\n",
    "labs( x=\"Tiempo(s)\", y=\"Temperatura (K)\")\n",
    "#ggplotly(k)\n",
    "k"
   ]
  },
  {
   "cell_type": "code",
   "execution_count": 6,
   "metadata": {
    "collapsed": false,
    "scrolled": false
   },
   "outputs": [
    {
     "data": {
      "text/html": [
       "<table>\n",
       "<thead><tr><th scope=col>Tiempo</th><th scope=col>T</th><th scope=col>V</th><th scope=col>P</th><th scope=col>lnV</th></tr></thead>\n",
       "<tbody>\n",
       "\t<tr><td>0.0         </td><td>298.891     </td><td>9.505e-05   </td><td>204.535     </td><td>0.0000000000</td></tr>\n",
       "\t<tr><td>0.1         </td><td>298.890     </td><td>9.508e-05   </td><td>204.474     </td><td>0.0003155736</td></tr>\n",
       "\t<tr><td>0.2         </td><td>298.889     </td><td>9.506e-05   </td><td>204.535     </td><td>0.0001052023</td></tr>\n",
       "\t<tr><td>0.3         </td><td>298.889     </td><td>9.508e-05   </td><td>204.474     </td><td>0.0003155736</td></tr>\n",
       "\t<tr><td>0.4         </td><td>298.889     </td><td>9.508e-05   </td><td>204.413     </td><td>0.0003155736</td></tr>\n",
       "</tbody>\n",
       "</table>\n"
      ],
      "text/latex": [
       "\\begin{tabular}{r|lllll}\n",
       " Tiempo & T & V & P & lnV\\\\\n",
       "\\hline\n",
       "\t 0.0          & 298.891      & 9.505e-05    & 204.535      & 0.0000000000\\\\\n",
       "\t 0.1          & 298.890      & 9.508e-05    & 204.474      & 0.0003155736\\\\\n",
       "\t 0.2          & 298.889      & 9.506e-05    & 204.535      & 0.0001052023\\\\\n",
       "\t 0.3          & 298.889      & 9.508e-05    & 204.474      & 0.0003155736\\\\\n",
       "\t 0.4          & 298.889      & 9.508e-05    & 204.413      & 0.0003155736\\\\\n",
       "\\end{tabular}\n"
      ],
      "text/markdown": [
       "\n",
       "Tiempo | T | V | P | lnV | \n",
       "|---|---|---|---|---|\n",
       "| 0.0          | 298.891      | 9.505e-05    | 204.535      | 0.0000000000 | \n",
       "| 0.1          | 298.890      | 9.508e-05    | 204.474      | 0.0003155736 | \n",
       "| 0.2          | 298.889      | 9.506e-05    | 204.535      | 0.0001052023 | \n",
       "| 0.3          | 298.889      | 9.508e-05    | 204.474      | 0.0003155736 | \n",
       "| 0.4          | 298.889      | 9.508e-05    | 204.413      | 0.0003155736 | \n",
       "\n",
       "\n"
      ],
      "text/plain": [
       "  Tiempo T       V         P       lnV         \n",
       "1 0.0    298.891 9.505e-05 204.535 0.0000000000\n",
       "2 0.1    298.890 9.508e-05 204.474 0.0003155736\n",
       "3 0.2    298.889 9.506e-05 204.535 0.0001052023\n",
       "4 0.3    298.889 9.508e-05 204.474 0.0003155736\n",
       "5 0.4    298.889 9.508e-05 204.413 0.0003155736"
      ]
     },
     "metadata": {},
     "output_type": "display_data"
    }
   ],
   "source": [
    "V_0 <- D$V[1]\n",
    "VV <- D$V / V_0\n",
    "lnV <- log(VV)\n",
    "DN <- mutate(D, lnV= lnV)\n",
    "head(DN,5)"
   ]
  },
  {
   "cell_type": "code",
   "execution_count": 9,
   "metadata": {
    "collapsed": false
   },
   "outputs": [
    {
     "data": {
      "text/html": [
       "<table>\n",
       "<thead><tr><th scope=col>Tiempo</th><th scope=col>T</th><th scope=col>V</th><th scope=col>P</th><th scope=col>lnV</th><th scope=col>nR</th></tr></thead>\n",
       "<tbody>\n",
       "\t<tr><td>0.0         </td><td>298.891     </td><td>9.505e-05   </td><td>204.535     </td><td>0.0000000000</td><td>6.504395e-05</td></tr>\n",
       "\t<tr><td>0.1         </td><td>298.890     </td><td>9.508e-05   </td><td>204.474     </td><td>0.0003155736</td><td>6.504529e-05</td></tr>\n",
       "\t<tr><td>0.2         </td><td>298.889     </td><td>9.506e-05   </td><td>204.535     </td><td>0.0001052023</td><td>6.505123e-05</td></tr>\n",
       "\t<tr><td>0.3         </td><td>298.889     </td><td>9.508e-05   </td><td>204.474     </td><td>0.0003155736</td><td>6.504551e-05</td></tr>\n",
       "\t<tr><td>0.4         </td><td>298.889     </td><td>9.508e-05   </td><td>204.413     </td><td>0.0003155736</td><td>6.502611e-05</td></tr>\n",
       "</tbody>\n",
       "</table>\n"
      ],
      "text/latex": [
       "\\begin{tabular}{r|llllll}\n",
       " Tiempo & T & V & P & lnV & nR\\\\\n",
       "\\hline\n",
       "\t 0.0          & 298.891      & 9.505e-05    & 204.535      & 0.0000000000 & 6.504395e-05\\\\\n",
       "\t 0.1          & 298.890      & 9.508e-05    & 204.474      & 0.0003155736 & 6.504529e-05\\\\\n",
       "\t 0.2          & 298.889      & 9.506e-05    & 204.535      & 0.0001052023 & 6.505123e-05\\\\\n",
       "\t 0.3          & 298.889      & 9.508e-05    & 204.474      & 0.0003155736 & 6.504551e-05\\\\\n",
       "\t 0.4          & 298.889      & 9.508e-05    & 204.413      & 0.0003155736 & 6.502611e-05\\\\\n",
       "\\end{tabular}\n"
      ],
      "text/markdown": [
       "\n",
       "Tiempo | T | V | P | lnV | nR | \n",
       "|---|---|---|---|---|\n",
       "| 0.0          | 298.891      | 9.505e-05    | 204.535      | 0.0000000000 | 6.504395e-05 | \n",
       "| 0.1          | 298.890      | 9.508e-05    | 204.474      | 0.0003155736 | 6.504529e-05 | \n",
       "| 0.2          | 298.889      | 9.506e-05    | 204.535      | 0.0001052023 | 6.505123e-05 | \n",
       "| 0.3          | 298.889      | 9.508e-05    | 204.474      | 0.0003155736 | 6.504551e-05 | \n",
       "| 0.4          | 298.889      | 9.508e-05    | 204.413      | 0.0003155736 | 6.502611e-05 | \n",
       "\n",
       "\n"
      ],
      "text/plain": [
       "  Tiempo T       V         P       lnV          nR          \n",
       "1 0.0    298.891 9.505e-05 204.535 0.0000000000 6.504395e-05\n",
       "2 0.1    298.890 9.508e-05 204.474 0.0003155736 6.504529e-05\n",
       "3 0.2    298.889 9.506e-05 204.535 0.0001052023 6.505123e-05\n",
       "4 0.3    298.889 9.508e-05 204.474 0.0003155736 6.504551e-05\n",
       "5 0.4    298.889 9.508e-05 204.413 0.0003155736 6.502611e-05"
      ]
     },
     "metadata": {},
     "output_type": "display_data"
    }
   ],
   "source": [
    "nR <- (D$V * D$P)/(D$T)\n",
    "DN <- mutate(DN, nR=nR)\n",
    "head(DN,5)"
   ]
  },
  {
   "cell_type": "code",
   "execution_count": 7,
   "metadata": {
    "collapsed": false,
    "scrolled": true
   },
   "outputs": [
    {
     "data": {},
     "metadata": {},
     "output_type": "display_data"
    },
    {
     "data": {
      "image/png": "[encoded data removed]",
      "text/plain": [
       "plot without title"
      ]
     },
     "metadata": {},
     "output_type": "display_data"
    }
   ],
   "source": [
    "p <- ggplot(DN,aes(x=P,y=lnV)) +\n",
    "     geom_point(size=0.75, color=\"dark blue\") +\n",
    "     #geom_line(col= \"blue\", size=0.75)\n",
    "     stat_smooth(method = \"loess\",colour=\"black\", size=0.25,\n",
    "            fullrange=TRUE, se=TRUE)+\n",
    "     labs(x=\"Presión\", y=\"Ln(V/V_0)\")\n",
    "#ggplotly(p)\n",
    "p"
   ]
  },
  {
   "cell_type": "code",
   "execution_count": null,
   "metadata": {
    "collapsed": false,
    "scrolled": true
   },
   "outputs": [],
   "source": [
    "smooth_vals = predict(loess(P~lnV,D), D$lnV)\n",
    "smooth_vals"
   ]
  },
  {
   "cell_type": "code",
   "execution_count": null,
   "metadata": {
    "collapsed": false
   },
   "outputs": [],
   "source": [
    "stat_smooth(method = \"loess\",colour=\"blue\", formula = y ~ 1/x, fullrange=FALSE, se=FALSE)"
   ]
  },
  {
   "cell_type": "code",
   "execution_count": 10,
   "metadata": {
    "collapsed": false
   },
   "outputs": [
    {
     "ename": "ERROR",
     "evalue": "Error in mutate_impl(.data, dots): binding not found: 'P2'\n",
     "output_type": "error",
     "traceback": [
      "Error in mutate_impl(.data, dots): binding not found: 'P2'\nTraceback:\n",
      "1. mutate(DN, P2)",
      "2. mutate_(.data, .dots = lazyeval::lazy_dots(...))",
      "3. mutate_.data.frame(.data, .dots = lazyeval::lazy_dots(...))",
      "4. as.data.frame(mutate_(tbl_df(.data), .dots = dots))",
      "5. mutate_(tbl_df(.data), .dots = dots)",
      "6. mutate_.tbl_df(tbl_df(.data), .dots = dots)",
      "7. mutate_impl(.data, dots)"
     ]
    }
   ],
   "source": [
    "DN<- mutate(DN,P2)\n",
    "names(DN)[names(DN)==\"P2\"] <- \"Logaritmica(lnV)\"\n",
    "DN"
   ]
  },
  {
   "cell_type": "code",
   "execution_count": null,
   "metadata": {
    "collapsed": false,
    "scrolled": true
   },
   "outputs": [],
   "source": [
    "ggplot(data,aes(x=P1,y=P2))+ geom_line(size=2)\n",
    "#geom_line(x=P,y=lnV)"
   ]
  },
  {
   "cell_type": "code",
   "execution_count": null,
   "metadata": {
    "collapsed": false,
    "scrolled": true
   },
   "outputs": [],
   "source": [
    "Newdata= data.frame(DN[4],DN[5],DN[6])\n",
    "Newdata\n",
    "Newdata = melt(Newdata, id=\"P\")\n",
    "Newdata"
   ]
  },
  {
   "cell_type": "code",
   "execution_count": null,
   "metadata": {
    "collapsed": false
   },
   "outputs": [],
   "source": [
    "names(Newdata)"
   ]
  },
  {
   "cell_type": "code",
   "execution_count": null,
   "metadata": {
    "collapsed": false,
    "scrolled": true
   },
   "outputs": [],
   "source": [
    "p <- ggplot(Newdata,aes(x=P, y=value, colour=variable)) +\n",
    "     geom_line(size=0.75) +\n",
    "     #geom_line(col= \"blue\", size=0.75)\n",
    "     #stat_smooth(method = \"loess\",colour=\"black\", size=0.25,\n",
    "     #       fullrange=TRUE, se=TRUE)+\n",
    "     labs(x=\"Presión\", y=\"Ln(V/V_0)\")\n",
    "#ggplotly(p)\n",
    "p"
   ]
  },
  {
   "cell_type": "code",
   "execution_count": null,
   "metadata": {
    "collapsed": false
   },
   "outputs": [],
   "source": [
    "dp <- ggplot(DN, aes(x=Tiempo,y=nR)) + \n",
    "geom_point()+\n",
    "theme_bw()+\n",
    "stat_smooth(method = \"loess\",colour=\"black\", size=0.75, formula= y~x,\n",
    "             se=TRUE)+\n",
    "labs(x=\"Tiempo (s)\" , y=\"PV/T\")\n",
    "#ggplotly(dp)\n",
    "dp"
   ]
  },
  {
   "cell_type": "code",
   "execution_count": null,
   "metadata": {
    "collapsed": false
   },
   "outputs": [],
   "source": [
    "summary(DN$nR)\n",
    "sd(DN$nR)"
   ]
  },
  {
   "cell_type": "code",
   "execution_count": 12,
   "metadata": {
    "collapsed": false
   },
   "outputs": [
    {
     "data": {},
     "metadata": {},
     "output_type": "display_data"
    },
    {
     "data": {
      "image/png": "[encoded data removed]",
      "text/plain": [
       "plot without title"
      ]
     },
     "metadata": {},
     "output_type": "display_data"
    }
   ],
   "source": [
    "dz <- ggplot(DN, aes(x=nR,y=V/T)) + \n",
    "geom_point()+\n",
    "theme_bw()+\n",
    "stat_smooth(method = \"loess\",colour=\"black\", size=0.75, formula= y~x,\n",
    "             se=TRUE)+\n",
    "labs(x=\"nR\" , y=\"V/T\")\n",
    "#ggplotly(dz)\n",
    "dz"
   ]
  },
  {
   "cell_type": "code",
   "execution_count": 14,
   "metadata": {
    "collapsed": false
   },
   "outputs": [
    {
     "data": {},
     "metadata": {},
     "output_type": "display_data"
    },
    {
     "data": {
      "image/png": "[encoded data removed]",
      "text/plain": [
       "plot without title"
      ]
     },
     "metadata": {},
     "output_type": "display_data"
    }
   ],
   "source": [
    "dh <- ggplot(DN, aes(x=Tiempo,y=nR)) + \n",
    "geom_point()+\n",
    "theme_bw()+\n",
    "stat_smooth(method = \"loess\",colour=\"black\", size=0.75, span= 0.25,\n",
    "             se=TRUE)+\n",
    "labs(x=\"Tiempo(s)\" , y=\"PV/T (kPa m^3 K^-1)\")\n",
    "dh"
   ]
  },
  {
   "cell_type": "code",
   "execution_count": 16,
   "metadata": {
    "collapsed": false
   },
   "outputs": [
    {
     "data": {
      "text/html": [
       "NaN"
      ],
      "text/latex": [
       "NaN"
      ],
      "text/markdown": [
       "NaN"
      ],
      "text/plain": [
       "[1] NaN"
      ]
     },
     "metadata": {},
     "output_type": "display_data"
    },
    {
     "data": {
      "text/plain": [
       "     Min.   1st Qu.    Median      Mean   3rd Qu.      Max.      NA's \n",
       "     -Inf -0.007974 -0.005540       NaN  0.000000       Inf        20 "
      ]
     },
     "metadata": {},
     "output_type": "display_data"
    }
   ],
   "source": [
    "z <- diff(DN$lnV) / diff(DN$P)\n",
    "sum(z, na.rm=TRUE)\n",
    "#z[385]<- 0\n",
    "\n",
    "#k <- z**(1/(DN$V))\n",
    "#z\n",
    "#z\n",
    "summary(z)\n",
    "#str(DN)"
   ]
  },
  {
   "cell_type": "code",
   "execution_count": null,
   "metadata": {
    "collapsed": false
   },
   "outputs": [],
   "source": [
    "jk <- 1/DN$P\n",
    "rrr <- data.frame(z, jk)\n",
    "rrr[3] <-rrr[2]-rrr[1]\n",
    "rrr[4] <- DN$Tiempo\n",
    "summary(rrr)"
   ]
  },
  {
   "cell_type": "code",
   "execution_count": null,
   "metadata": {
    "collapsed": false
   },
   "outputs": [],
   "source": [
    "pdiffv <- data.frame(DN[4],z)\n",
    "tail(pdiffv,5)"
   ]
  },
  {
   "cell_type": "code",
   "execution_count": null,
   "metadata": {
    "collapsed": false
   },
   "outputs": [],
   "source": [
    "ggplot(rrr, aes(x=V4, y=jk.1))+ geom_point()+geom_line()\n"
   ]
  },
  {
   "cell_type": "code",
   "execution_count": null,
   "metadata": {
    "collapsed": true
   },
   "outputs": [],
   "source": []
  },
  {
   "cell_type": "code",
   "execution_count": null,
   "metadata": {
    "collapsed": false,
    "scrolled": true
   },
   "outputs": [],
   "source": [
    "z<- seq(204.5350,101.3820,along.with=D$T)\n",
    "k<--1.0626*log(z)+5.5675\n",
    "z"
   ]
  },
  {
   "cell_type": "code",
   "execution_count": null,
   "metadata": {
    "collapsed": false
   },
   "outputs": [],
   "source": [
    "P1 <- c(z)\n",
    "P2 <- c(k)\n",
    "data <- data.frame(P1,P2)\n",
    "data"
   ]
  }
 ],
 "metadata": {
  "kernelspec": {
   "display_name": "R",
   "language": "R",
   "name": "ir"
  },
  "language_info": {
   "codemirror_mode": "r",
   "file_extension": ".r",
   "mimetype": "text/x-r-source",
   "name": "R",
   "pygments_lexer": "r",
   "version": "3.3.2"
  }
 },
 "nbformat": 4,
 "nbformat_minor": 2
}
